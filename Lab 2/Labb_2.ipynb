{
  "nbformat": 4,
  "nbformat_minor": 0,
  "metadata": {
    "colab": {
      "name": "Lab_2.ipynb",
      "provenance": []
    },
    "kernelspec": {
      "name": "python3",
      "display_name": "Python 3"
    },
    "language_info": {
      "name": "python"
    }
  },
  "cells": [
    {
      "cell_type": "markdown",
      "metadata": {
        "id": "68DMVsqmWeRo"
      },
      "source": [
        "Part 1: Calculate the Mean, Median, and Standard deviation"
      ]
    },
    {
      "cell_type": "code",
      "metadata": {
        "colab": {
          "base_uri": "https://localhost:8080/"
        },
        "id": "s7xMzQ2ij0Oa",
        "outputId": "66bc7d07-d77d-4377-8ccd-6a4572313eaf"
      },
      "source": [
        " from google.colab import drive\n",
        "drive.mount('/content/gdrive')"
      ],
      "execution_count": 95,
      "outputs": [
        {
          "output_type": "stream",
          "name": "stdout",
          "text": [
            "Drive already mounted at /content/gdrive; to attempt to forcibly remount, call drive.mount(\"/content/gdrive\", force_remount=True).\n"
          ]
        }
      ]
    },
    {
      "cell_type": "code",
      "metadata": {
        "id": "felnfCFcmrGK"
      },
      "source": [
        "import pandas as pd"
      ],
      "execution_count": 96,
      "outputs": []
    },
    {
      "cell_type": "code",
      "metadata": {
        "id": "CazWtVnHnRe6"
      },
      "source": [
        "import numpy as np"
      ],
      "execution_count": 97,
      "outputs": []
    },
    {
      "cell_type": "markdown",
      "metadata": {
        "id": "DpOEjNwzXJZN"
      },
      "source": [
        " 1. Load the wine dataset from the given ‘wine.csv’ file into a variable"
      ]
    },
    {
      "cell_type": "code",
      "metadata": {
        "id": "HNJXUjmCmt1_"
      },
      "source": [
        "Zain = pd.read_csv(\"/content/gdrive/MyDrive/wine.csv\") #loading data into a varible Zain"
      ],
      "execution_count": 98,
      "outputs": []
    },
    {
      "cell_type": "code",
      "metadata": {
        "colab": {
          "base_uri": "https://localhost:8080/"
        },
        "id": "cwB8TNwgm-13",
        "outputId": "de6747aa-1703-40b0-943d-657aee6c2eea"
      },
      "source": [
        "Zain.shape"
      ],
      "execution_count": 99,
      "outputs": [
        {
          "output_type": "execute_result",
          "data": {
            "text/plain": [
              "(178, 14)"
            ]
          },
          "metadata": {},
          "execution_count": 99
        }
      ]
    },
    {
      "cell_type": "code",
      "metadata": {
        "colab": {
          "base_uri": "https://localhost:8080/",
          "height": 417
        },
        "id": "XnWoddoXnFzI",
        "outputId": "b7510646-6420-4e5f-8edc-23f142e5278e"
      },
      "source": [
        "Zain"
      ],
      "execution_count": 100,
      "outputs": [
        {
          "output_type": "execute_result",
          "data": {
            "text/html": [
              "<div>\n",
              "<style scoped>\n",
              "    .dataframe tbody tr th:only-of-type {\n",
              "        vertical-align: middle;\n",
              "    }\n",
              "\n",
              "    .dataframe tbody tr th {\n",
              "        vertical-align: top;\n",
              "    }\n",
              "\n",
              "    .dataframe thead th {\n",
              "        text-align: right;\n",
              "    }\n",
              "</style>\n",
              "<table border=\"1\" class=\"dataframe\">\n",
              "  <thead>\n",
              "    <tr style=\"text-align: right;\">\n",
              "      <th></th>\n",
              "      <th>Wine</th>\n",
              "      <th>Alcohol</th>\n",
              "      <th>Malic.acid</th>\n",
              "      <th>Ash</th>\n",
              "      <th>Acl</th>\n",
              "      <th>Mg</th>\n",
              "      <th>Phenols</th>\n",
              "      <th>Flavanoids</th>\n",
              "      <th>Nonflavanoid.phenols</th>\n",
              "      <th>Proanth</th>\n",
              "      <th>Color.int</th>\n",
              "      <th>Hue</th>\n",
              "      <th>OD</th>\n",
              "      <th>Proline</th>\n",
              "    </tr>\n",
              "  </thead>\n",
              "  <tbody>\n",
              "    <tr>\n",
              "      <th>0</th>\n",
              "      <td>1</td>\n",
              "      <td>14.23</td>\n",
              "      <td>1.71</td>\n",
              "      <td>2.43</td>\n",
              "      <td>15.6</td>\n",
              "      <td>127</td>\n",
              "      <td>2.80</td>\n",
              "      <td>3.06</td>\n",
              "      <td>0.28</td>\n",
              "      <td>2.29</td>\n",
              "      <td>5.64</td>\n",
              "      <td>1.04</td>\n",
              "      <td>3.92</td>\n",
              "      <td>1065</td>\n",
              "    </tr>\n",
              "    <tr>\n",
              "      <th>1</th>\n",
              "      <td>1</td>\n",
              "      <td>13.20</td>\n",
              "      <td>1.78</td>\n",
              "      <td>2.14</td>\n",
              "      <td>11.2</td>\n",
              "      <td>100</td>\n",
              "      <td>2.65</td>\n",
              "      <td>2.76</td>\n",
              "      <td>0.26</td>\n",
              "      <td>1.28</td>\n",
              "      <td>4.38</td>\n",
              "      <td>1.05</td>\n",
              "      <td>3.40</td>\n",
              "      <td>1050</td>\n",
              "    </tr>\n",
              "    <tr>\n",
              "      <th>2</th>\n",
              "      <td>1</td>\n",
              "      <td>13.16</td>\n",
              "      <td>2.36</td>\n",
              "      <td>2.67</td>\n",
              "      <td>18.6</td>\n",
              "      <td>101</td>\n",
              "      <td>2.80</td>\n",
              "      <td>3.24</td>\n",
              "      <td>0.30</td>\n",
              "      <td>2.81</td>\n",
              "      <td>5.68</td>\n",
              "      <td>1.03</td>\n",
              "      <td>3.17</td>\n",
              "      <td>1185</td>\n",
              "    </tr>\n",
              "    <tr>\n",
              "      <th>3</th>\n",
              "      <td>1</td>\n",
              "      <td>14.37</td>\n",
              "      <td>1.95</td>\n",
              "      <td>2.50</td>\n",
              "      <td>16.8</td>\n",
              "      <td>113</td>\n",
              "      <td>3.85</td>\n",
              "      <td>3.49</td>\n",
              "      <td>0.24</td>\n",
              "      <td>2.18</td>\n",
              "      <td>7.80</td>\n",
              "      <td>0.86</td>\n",
              "      <td>3.45</td>\n",
              "      <td>1480</td>\n",
              "    </tr>\n",
              "    <tr>\n",
              "      <th>4</th>\n",
              "      <td>1</td>\n",
              "      <td>13.24</td>\n",
              "      <td>2.59</td>\n",
              "      <td>2.87</td>\n",
              "      <td>21.0</td>\n",
              "      <td>118</td>\n",
              "      <td>2.80</td>\n",
              "      <td>2.69</td>\n",
              "      <td>0.39</td>\n",
              "      <td>1.82</td>\n",
              "      <td>4.32</td>\n",
              "      <td>1.04</td>\n",
              "      <td>2.93</td>\n",
              "      <td>735</td>\n",
              "    </tr>\n",
              "    <tr>\n",
              "      <th>...</th>\n",
              "      <td>...</td>\n",
              "      <td>...</td>\n",
              "      <td>...</td>\n",
              "      <td>...</td>\n",
              "      <td>...</td>\n",
              "      <td>...</td>\n",
              "      <td>...</td>\n",
              "      <td>...</td>\n",
              "      <td>...</td>\n",
              "      <td>...</td>\n",
              "      <td>...</td>\n",
              "      <td>...</td>\n",
              "      <td>...</td>\n",
              "      <td>...</td>\n",
              "    </tr>\n",
              "    <tr>\n",
              "      <th>173</th>\n",
              "      <td>3</td>\n",
              "      <td>13.71</td>\n",
              "      <td>5.65</td>\n",
              "      <td>2.45</td>\n",
              "      <td>20.5</td>\n",
              "      <td>95</td>\n",
              "      <td>1.68</td>\n",
              "      <td>0.61</td>\n",
              "      <td>0.52</td>\n",
              "      <td>1.06</td>\n",
              "      <td>7.70</td>\n",
              "      <td>0.64</td>\n",
              "      <td>1.74</td>\n",
              "      <td>740</td>\n",
              "    </tr>\n",
              "    <tr>\n",
              "      <th>174</th>\n",
              "      <td>3</td>\n",
              "      <td>13.40</td>\n",
              "      <td>3.91</td>\n",
              "      <td>2.48</td>\n",
              "      <td>23.0</td>\n",
              "      <td>102</td>\n",
              "      <td>1.80</td>\n",
              "      <td>0.75</td>\n",
              "      <td>0.43</td>\n",
              "      <td>1.41</td>\n",
              "      <td>7.30</td>\n",
              "      <td>0.70</td>\n",
              "      <td>1.56</td>\n",
              "      <td>750</td>\n",
              "    </tr>\n",
              "    <tr>\n",
              "      <th>175</th>\n",
              "      <td>3</td>\n",
              "      <td>13.27</td>\n",
              "      <td>4.28</td>\n",
              "      <td>2.26</td>\n",
              "      <td>20.0</td>\n",
              "      <td>120</td>\n",
              "      <td>1.59</td>\n",
              "      <td>0.69</td>\n",
              "      <td>0.43</td>\n",
              "      <td>1.35</td>\n",
              "      <td>10.20</td>\n",
              "      <td>0.59</td>\n",
              "      <td>1.56</td>\n",
              "      <td>835</td>\n",
              "    </tr>\n",
              "    <tr>\n",
              "      <th>176</th>\n",
              "      <td>3</td>\n",
              "      <td>13.17</td>\n",
              "      <td>2.59</td>\n",
              "      <td>2.37</td>\n",
              "      <td>20.0</td>\n",
              "      <td>120</td>\n",
              "      <td>1.65</td>\n",
              "      <td>0.68</td>\n",
              "      <td>0.53</td>\n",
              "      <td>1.46</td>\n",
              "      <td>9.30</td>\n",
              "      <td>0.60</td>\n",
              "      <td>1.62</td>\n",
              "      <td>840</td>\n",
              "    </tr>\n",
              "    <tr>\n",
              "      <th>177</th>\n",
              "      <td>3</td>\n",
              "      <td>14.13</td>\n",
              "      <td>4.10</td>\n",
              "      <td>2.74</td>\n",
              "      <td>24.5</td>\n",
              "      <td>96</td>\n",
              "      <td>2.05</td>\n",
              "      <td>0.76</td>\n",
              "      <td>0.56</td>\n",
              "      <td>1.35</td>\n",
              "      <td>9.20</td>\n",
              "      <td>0.61</td>\n",
              "      <td>1.60</td>\n",
              "      <td>560</td>\n",
              "    </tr>\n",
              "  </tbody>\n",
              "</table>\n",
              "<p>178 rows × 14 columns</p>\n",
              "</div>"
            ],
            "text/plain": [
              "     Wine  Alcohol  Malic.acid   Ash  ...  Color.int   Hue    OD  Proline\n",
              "0       1    14.23        1.71  2.43  ...       5.64  1.04  3.92     1065\n",
              "1       1    13.20        1.78  2.14  ...       4.38  1.05  3.40     1050\n",
              "2       1    13.16        2.36  2.67  ...       5.68  1.03  3.17     1185\n",
              "3       1    14.37        1.95  2.50  ...       7.80  0.86  3.45     1480\n",
              "4       1    13.24        2.59  2.87  ...       4.32  1.04  2.93      735\n",
              "..    ...      ...         ...   ...  ...        ...   ...   ...      ...\n",
              "173     3    13.71        5.65  2.45  ...       7.70  0.64  1.74      740\n",
              "174     3    13.40        3.91  2.48  ...       7.30  0.70  1.56      750\n",
              "175     3    13.27        4.28  2.26  ...      10.20  0.59  1.56      835\n",
              "176     3    13.17        2.59  2.37  ...       9.30  0.60  1.62      840\n",
              "177     3    14.13        4.10  2.74  ...       9.20  0.61  1.60      560\n",
              "\n",
              "[178 rows x 14 columns]"
            ]
          },
          "metadata": {},
          "execution_count": 100
        }
      ]
    },
    {
      "cell_type": "code",
      "metadata": {
        "colab": {
          "base_uri": "https://localhost:8080/",
          "height": 417
        },
        "id": "lZn5FoJ5n0dR",
        "outputId": "138b6bbe-2460-48ca-c125-a844b2ad4342"
      },
      "source": [
        "#2. From the variable, extract the numerical information into a new variable, say scores.\n",
        "score = Zain.drop('Wine', axis=1)\n",
        "score"
      ],
      "execution_count": 101,
      "outputs": [
        {
          "output_type": "execute_result",
          "data": {
            "text/html": [
              "<div>\n",
              "<style scoped>\n",
              "    .dataframe tbody tr th:only-of-type {\n",
              "        vertical-align: middle;\n",
              "    }\n",
              "\n",
              "    .dataframe tbody tr th {\n",
              "        vertical-align: top;\n",
              "    }\n",
              "\n",
              "    .dataframe thead th {\n",
              "        text-align: right;\n",
              "    }\n",
              "</style>\n",
              "<table border=\"1\" class=\"dataframe\">\n",
              "  <thead>\n",
              "    <tr style=\"text-align: right;\">\n",
              "      <th></th>\n",
              "      <th>Alcohol</th>\n",
              "      <th>Malic.acid</th>\n",
              "      <th>Ash</th>\n",
              "      <th>Acl</th>\n",
              "      <th>Mg</th>\n",
              "      <th>Phenols</th>\n",
              "      <th>Flavanoids</th>\n",
              "      <th>Nonflavanoid.phenols</th>\n",
              "      <th>Proanth</th>\n",
              "      <th>Color.int</th>\n",
              "      <th>Hue</th>\n",
              "      <th>OD</th>\n",
              "      <th>Proline</th>\n",
              "    </tr>\n",
              "  </thead>\n",
              "  <tbody>\n",
              "    <tr>\n",
              "      <th>0</th>\n",
              "      <td>14.23</td>\n",
              "      <td>1.71</td>\n",
              "      <td>2.43</td>\n",
              "      <td>15.6</td>\n",
              "      <td>127</td>\n",
              "      <td>2.80</td>\n",
              "      <td>3.06</td>\n",
              "      <td>0.28</td>\n",
              "      <td>2.29</td>\n",
              "      <td>5.64</td>\n",
              "      <td>1.04</td>\n",
              "      <td>3.92</td>\n",
              "      <td>1065</td>\n",
              "    </tr>\n",
              "    <tr>\n",
              "      <th>1</th>\n",
              "      <td>13.20</td>\n",
              "      <td>1.78</td>\n",
              "      <td>2.14</td>\n",
              "      <td>11.2</td>\n",
              "      <td>100</td>\n",
              "      <td>2.65</td>\n",
              "      <td>2.76</td>\n",
              "      <td>0.26</td>\n",
              "      <td>1.28</td>\n",
              "      <td>4.38</td>\n",
              "      <td>1.05</td>\n",
              "      <td>3.40</td>\n",
              "      <td>1050</td>\n",
              "    </tr>\n",
              "    <tr>\n",
              "      <th>2</th>\n",
              "      <td>13.16</td>\n",
              "      <td>2.36</td>\n",
              "      <td>2.67</td>\n",
              "      <td>18.6</td>\n",
              "      <td>101</td>\n",
              "      <td>2.80</td>\n",
              "      <td>3.24</td>\n",
              "      <td>0.30</td>\n",
              "      <td>2.81</td>\n",
              "      <td>5.68</td>\n",
              "      <td>1.03</td>\n",
              "      <td>3.17</td>\n",
              "      <td>1185</td>\n",
              "    </tr>\n",
              "    <tr>\n",
              "      <th>3</th>\n",
              "      <td>14.37</td>\n",
              "      <td>1.95</td>\n",
              "      <td>2.50</td>\n",
              "      <td>16.8</td>\n",
              "      <td>113</td>\n",
              "      <td>3.85</td>\n",
              "      <td>3.49</td>\n",
              "      <td>0.24</td>\n",
              "      <td>2.18</td>\n",
              "      <td>7.80</td>\n",
              "      <td>0.86</td>\n",
              "      <td>3.45</td>\n",
              "      <td>1480</td>\n",
              "    </tr>\n",
              "    <tr>\n",
              "      <th>4</th>\n",
              "      <td>13.24</td>\n",
              "      <td>2.59</td>\n",
              "      <td>2.87</td>\n",
              "      <td>21.0</td>\n",
              "      <td>118</td>\n",
              "      <td>2.80</td>\n",
              "      <td>2.69</td>\n",
              "      <td>0.39</td>\n",
              "      <td>1.82</td>\n",
              "      <td>4.32</td>\n",
              "      <td>1.04</td>\n",
              "      <td>2.93</td>\n",
              "      <td>735</td>\n",
              "    </tr>\n",
              "    <tr>\n",
              "      <th>...</th>\n",
              "      <td>...</td>\n",
              "      <td>...</td>\n",
              "      <td>...</td>\n",
              "      <td>...</td>\n",
              "      <td>...</td>\n",
              "      <td>...</td>\n",
              "      <td>...</td>\n",
              "      <td>...</td>\n",
              "      <td>...</td>\n",
              "      <td>...</td>\n",
              "      <td>...</td>\n",
              "      <td>...</td>\n",
              "      <td>...</td>\n",
              "    </tr>\n",
              "    <tr>\n",
              "      <th>173</th>\n",
              "      <td>13.71</td>\n",
              "      <td>5.65</td>\n",
              "      <td>2.45</td>\n",
              "      <td>20.5</td>\n",
              "      <td>95</td>\n",
              "      <td>1.68</td>\n",
              "      <td>0.61</td>\n",
              "      <td>0.52</td>\n",
              "      <td>1.06</td>\n",
              "      <td>7.70</td>\n",
              "      <td>0.64</td>\n",
              "      <td>1.74</td>\n",
              "      <td>740</td>\n",
              "    </tr>\n",
              "    <tr>\n",
              "      <th>174</th>\n",
              "      <td>13.40</td>\n",
              "      <td>3.91</td>\n",
              "      <td>2.48</td>\n",
              "      <td>23.0</td>\n",
              "      <td>102</td>\n",
              "      <td>1.80</td>\n",
              "      <td>0.75</td>\n",
              "      <td>0.43</td>\n",
              "      <td>1.41</td>\n",
              "      <td>7.30</td>\n",
              "      <td>0.70</td>\n",
              "      <td>1.56</td>\n",
              "      <td>750</td>\n",
              "    </tr>\n",
              "    <tr>\n",
              "      <th>175</th>\n",
              "      <td>13.27</td>\n",
              "      <td>4.28</td>\n",
              "      <td>2.26</td>\n",
              "      <td>20.0</td>\n",
              "      <td>120</td>\n",
              "      <td>1.59</td>\n",
              "      <td>0.69</td>\n",
              "      <td>0.43</td>\n",
              "      <td>1.35</td>\n",
              "      <td>10.20</td>\n",
              "      <td>0.59</td>\n",
              "      <td>1.56</td>\n",
              "      <td>835</td>\n",
              "    </tr>\n",
              "    <tr>\n",
              "      <th>176</th>\n",
              "      <td>13.17</td>\n",
              "      <td>2.59</td>\n",
              "      <td>2.37</td>\n",
              "      <td>20.0</td>\n",
              "      <td>120</td>\n",
              "      <td>1.65</td>\n",
              "      <td>0.68</td>\n",
              "      <td>0.53</td>\n",
              "      <td>1.46</td>\n",
              "      <td>9.30</td>\n",
              "      <td>0.60</td>\n",
              "      <td>1.62</td>\n",
              "      <td>840</td>\n",
              "    </tr>\n",
              "    <tr>\n",
              "      <th>177</th>\n",
              "      <td>14.13</td>\n",
              "      <td>4.10</td>\n",
              "      <td>2.74</td>\n",
              "      <td>24.5</td>\n",
              "      <td>96</td>\n",
              "      <td>2.05</td>\n",
              "      <td>0.76</td>\n",
              "      <td>0.56</td>\n",
              "      <td>1.35</td>\n",
              "      <td>9.20</td>\n",
              "      <td>0.61</td>\n",
              "      <td>1.60</td>\n",
              "      <td>560</td>\n",
              "    </tr>\n",
              "  </tbody>\n",
              "</table>\n",
              "<p>178 rows × 13 columns</p>\n",
              "</div>"
            ],
            "text/plain": [
              "     Alcohol  Malic.acid   Ash   Acl  ...  Color.int   Hue    OD  Proline\n",
              "0      14.23        1.71  2.43  15.6  ...       5.64  1.04  3.92     1065\n",
              "1      13.20        1.78  2.14  11.2  ...       4.38  1.05  3.40     1050\n",
              "2      13.16        2.36  2.67  18.6  ...       5.68  1.03  3.17     1185\n",
              "3      14.37        1.95  2.50  16.8  ...       7.80  0.86  3.45     1480\n",
              "4      13.24        2.59  2.87  21.0  ...       4.32  1.04  2.93      735\n",
              "..       ...         ...   ...   ...  ...        ...   ...   ...      ...\n",
              "173    13.71        5.65  2.45  20.5  ...       7.70  0.64  1.74      740\n",
              "174    13.40        3.91  2.48  23.0  ...       7.30  0.70  1.56      750\n",
              "175    13.27        4.28  2.26  20.0  ...      10.20  0.59  1.56      835\n",
              "176    13.17        2.59  2.37  20.0  ...       9.30  0.60  1.62      840\n",
              "177    14.13        4.10  2.74  24.5  ...       9.20  0.61  1.60      560\n",
              "\n",
              "[178 rows x 13 columns]"
            ]
          },
          "metadata": {},
          "execution_count": 101
        }
      ]
    },
    {
      "cell_type": "code",
      "metadata": {
        "colab": {
          "base_uri": "https://localhost:8080/"
        },
        "id": "96dxnhiMotaF",
        "outputId": "4486a187-b374-48a1-928d-a26c681d98e2"
      },
      "source": [
        "#3. Calculate the row-wise,column-wise, and overall mean, median, and standard deviation of the dataset.\n",
        "#In this question write separate functions for each operation and pass the variable (scores) as the parameter to the function.\n",
        "\n",
        "np.mean(score)   #column wise mean"
      ],
      "execution_count": 102,
      "outputs": [
        {
          "output_type": "execute_result",
          "data": {
            "text/plain": [
              "Alcohol                  13.000618\n",
              "Malic.acid                2.336348\n",
              "Ash                       2.366517\n",
              "Acl                      19.494944\n",
              "Mg                       99.741573\n",
              "Phenols                   2.295112\n",
              "Flavanoids                2.029270\n",
              "Nonflavanoid.phenols      0.361854\n",
              "Proanth                   1.590899\n",
              "Color.int                 5.058090\n",
              "Hue                       0.957449\n",
              "OD                        2.611685\n",
              "Proline                 746.893258\n",
              "dtype: float64"
            ]
          },
          "metadata": {},
          "execution_count": 102
        }
      ]
    },
    {
      "cell_type": "code",
      "metadata": {
        "id": "WfmmgkpRpy5c",
        "colab": {
          "base_uri": "https://localhost:8080/"
        },
        "outputId": "ed367d65-d756-4ae2-b232-af874106b4a1"
      },
      "source": [
        "np.mean(score, axis = 1)  #mean row-wise\n"
      ],
      "execution_count": 103,
      "outputs": [
        {
          "output_type": "execute_result",
          "data": {
            "text/plain": [
              "0       95.769231\n",
              "1       91.853846\n",
              "2      103.216923\n",
              "3      126.960769\n",
              "4       69.899231\n",
              "          ...    \n",
              "173     68.558462\n",
              "174     69.903077\n",
              "175     77.786154\n",
              "176     77.997692\n",
              "177     55.200000\n",
              "Length: 178, dtype: float64"
            ]
          },
          "metadata": {},
          "execution_count": 103
        }
      ]
    },
    {
      "cell_type": "code",
      "metadata": {
        "colab": {
          "base_uri": "https://localhost:8080/"
        },
        "id": "-FTSjEfACFcM",
        "outputId": "b9679acd-914a-469a-952e-edb87af847a8"
      },
      "source": [
        "x=score.mean(axis= 0)          #over all mean \n",
        "y=score.mean(axis= 1)\n",
        "np.mean(x)"
      ],
      "execution_count": 104,
      "outputs": [
        {
          "output_type": "execute_result",
          "data": {
            "text/plain": [
              "69.13366292091617"
            ]
          },
          "metadata": {},
          "execution_count": 104
        }
      ]
    },
    {
      "cell_type": "code",
      "metadata": {
        "colab": {
          "base_uri": "https://localhost:8080/"
        },
        "id": "eM3Pi4Xc7SAM",
        "outputId": "cbd9b866-464e-4436-af21-bbf0e01196ae"
      },
      "source": [
        "np.median(score)  #over all median"
      ],
      "execution_count": 105,
      "outputs": [
        {
          "output_type": "execute_result",
          "data": {
            "text/plain": [
              "2.685"
            ]
          },
          "metadata": {},
          "execution_count": 105
        }
      ]
    },
    {
      "cell_type": "code",
      "metadata": {
        "colab": {
          "base_uri": "https://localhost:8080/"
        },
        "id": "qycXV0G5-A_9",
        "outputId": "6cedc98f-3da7-4fb5-8b11-c1f8892a8b15"
      },
      "source": [
        "np.median(score, axis = 0)  #median column wise"
      ],
      "execution_count": 106,
      "outputs": [
        {
          "output_type": "execute_result",
          "data": {
            "text/plain": [
              "array([1.305e+01, 1.865e+00, 2.360e+00, 1.950e+01, 9.800e+01, 2.355e+00,\n",
              "       2.135e+00, 3.400e-01, 1.555e+00, 4.690e+00, 9.650e-01, 2.780e+00,\n",
              "       6.735e+02])"
            ]
          },
          "metadata": {},
          "execution_count": 106
        }
      ]
    },
    {
      "cell_type": "code",
      "metadata": {
        "colab": {
          "base_uri": "https://localhost:8080/"
        },
        "id": "Px0tLS2i-H9a",
        "outputId": "c69a6d97-6a38-433e-dc83-ebd526702531"
      },
      "source": [
        "np.median(score,axis =1)   #median row-wise"
      ],
      "execution_count": 107,
      "outputs": [
        {
          "output_type": "execute_result",
          "data": {
            "text/plain": [
              "array([3.06, 2.76, 3.17, 3.49, 2.87, 3.27, 2.52, 2.61, 2.85, 3.15, 3.17,\n",
              "       2.43, 2.76, 3.1 , 3.3 , 2.88, 2.8 , 2.95, 3.3 , 3.1 , 3.17, 3.52,\n",
              "       2.88, 2.52, 2.61, 3.2 , 2.94, 2.4 , 2.97, 2.65, 3.  , 2.88, 2.69,\n",
              "       2.95, 2.65, 2.98, 2.78, 2.51, 2.64, 3.53, 3.29, 3.  , 3.56, 3.  ,\n",
              "       3.  , 3.33, 3.44, 3.33, 2.75, 3.1 , 2.91, 2.99, 3.74, 2.93, 2.9 ,\n",
              "       2.96, 3.2 , 3.  , 3.4 , 1.82, 2.05, 2.02, 2.1 , 3.1 , 2.23, 2.56,\n",
              "       3.18, 2.11, 2.36, 2.5 , 1.82, 2.95, 2.24, 3.3 , 3.13, 1.92, 2.03,\n",
              "       2.52, 2.31, 2.83, 2.42, 2.53, 2.2 , 2.32, 2.58, 2.24, 2.26, 2.6 ,\n",
              "       2.46, 2.2 , 2.27, 2.42, 2.06, 2.45, 2.96, 2.6 , 2.26, 2.55, 3.52,\n",
              "       2.85, 2.23, 1.9 , 2.56, 2.06, 2.2 , 2.55, 2.12, 2.28, 2.36, 2.74,\n",
              "       3.18, 2.43, 2.68, 2.48, 2.56, 2.2 , 1.98, 2.09, 2.12, 2.  , 2.9 ,\n",
              "       3.69, 2.73, 2.65, 3.03, 2.65, 2.84, 2.44, 2.3 , 2.57, 1.51, 2.4 ,\n",
              "       2.31, 2.36, 2.  , 2.2 , 2.54, 2.64, 2.19, 2.61, 2.7 , 2.47, 2.72,\n",
              "       2.35, 2.2 , 2.15, 2.23, 2.48, 2.38, 2.36, 2.62, 2.48, 2.2 , 2.28,\n",
              "       1.55, 2.32, 2.38, 2.64, 2.7 , 2.6 , 2.38, 2.54, 2.58, 2.35, 2.3 ,\n",
              "       2.26, 2.6 , 2.3 , 2.58, 2.86, 2.32, 2.28, 2.48, 2.45, 2.48, 2.26,\n",
              "       2.37, 2.74])"
            ]
          },
          "metadata": {},
          "execution_count": 107
        }
      ]
    },
    {
      "cell_type": "code",
      "metadata": {
        "colab": {
          "base_uri": "https://localhost:8080/"
        },
        "id": "N6bOajRT8egV",
        "outputId": "e42e5a91-4933-4939-cd24-c56442b9e017"
      },
      "source": [
        "p=score.std(axis= 0)         #over all standard deviation \n",
        "q=score.std(axis= 1)\n",
        "np.std(p)"
      ],
      "execution_count": 108,
      "outputs": [
        {
          "output_type": "execute_result",
          "data": {
            "text/plain": [
              "83.4279566113766"
            ]
          },
          "metadata": {},
          "execution_count": 108
        }
      ]
    },
    {
      "cell_type": "code",
      "metadata": {
        "colab": {
          "base_uri": "https://localhost:8080/"
        },
        "id": "RQP_KC6t-opf",
        "outputId": "c816b033-71ad-4384-af99-920e2016cadb"
      },
      "source": [
        "np.std(score, axis = 1)   #row-wise standard deviation"
      ],
      "execution_count": 109,
      "outputs": [
        {
          "output_type": "execute_result",
          "data": {
            "text/plain": [
              "0      281.704533\n",
              "1      277.789758\n",
              "2      313.360079\n",
              "3      391.665635\n",
              "4      194.404491\n",
              "          ...    \n",
              "173    195.376371\n",
              "174    198.101075\n",
              "175    220.781381\n",
              "176    222.156135\n",
              "177    147.836498\n",
              "Length: 178, dtype: float64"
            ]
          },
          "metadata": {},
          "execution_count": 109
        }
      ]
    },
    {
      "cell_type": "code",
      "metadata": {
        "colab": {
          "base_uri": "https://localhost:8080/"
        },
        "id": "WnAgKTv4-7bs",
        "outputId": "50992a75-2d32-4890-d62f-e06704b4845d"
      },
      "source": [
        "np.std(score,axis = 0)  #column -wise standard deviation"
      ],
      "execution_count": 110,
      "outputs": [
        {
          "output_type": "execute_result",
          "data": {
            "text/plain": [
              "Alcohol                   0.809543\n",
              "Malic.acid                1.114004\n",
              "Ash                       0.273572\n",
              "Acl                       3.330170\n",
              "Mg                       14.242308\n",
              "Phenols                   0.624091\n",
              "Flavanoids                0.996049\n",
              "Nonflavanoid.phenols      0.124103\n",
              "Proanth                   0.570749\n",
              "Color.int                 2.311765\n",
              "Hue                       0.227929\n",
              "OD                        0.707993\n",
              "Proline                 314.021657\n",
              "dtype: float64"
            ]
          },
          "metadata": {},
          "execution_count": 110
        }
      ]
    },
    {
      "cell_type": "markdown",
      "metadata": {
        "id": "TyTocspSWtZW"
      },
      "source": [
        "#Part 2: Calculate the pearson correlation and covariance matrix"
      ]
    },
    {
      "cell_type": "code",
      "metadata": {
        "colab": {
          "base_uri": "https://localhost:8080/",
          "height": 417
        },
        "id": "CM0DZXkv_yT2",
        "outputId": "656e163d-15dc-4cff-a28f-3596f759e790"
      },
      "source": [
        "#1. Take the ‘Alcohol’ and ‘Proline’ as the features from the ‘wine.csv’ dataset \n",
        "\n",
        "X=score.loc[0:178,['Alcohol', 'Proline']]\n",
        "X"
      ],
      "execution_count": 111,
      "outputs": [
        {
          "output_type": "execute_result",
          "data": {
            "text/html": [
              "<div>\n",
              "<style scoped>\n",
              "    .dataframe tbody tr th:only-of-type {\n",
              "        vertical-align: middle;\n",
              "    }\n",
              "\n",
              "    .dataframe tbody tr th {\n",
              "        vertical-align: top;\n",
              "    }\n",
              "\n",
              "    .dataframe thead th {\n",
              "        text-align: right;\n",
              "    }\n",
              "</style>\n",
              "<table border=\"1\" class=\"dataframe\">\n",
              "  <thead>\n",
              "    <tr style=\"text-align: right;\">\n",
              "      <th></th>\n",
              "      <th>Alcohol</th>\n",
              "      <th>Proline</th>\n",
              "    </tr>\n",
              "  </thead>\n",
              "  <tbody>\n",
              "    <tr>\n",
              "      <th>0</th>\n",
              "      <td>14.23</td>\n",
              "      <td>1065</td>\n",
              "    </tr>\n",
              "    <tr>\n",
              "      <th>1</th>\n",
              "      <td>13.20</td>\n",
              "      <td>1050</td>\n",
              "    </tr>\n",
              "    <tr>\n",
              "      <th>2</th>\n",
              "      <td>13.16</td>\n",
              "      <td>1185</td>\n",
              "    </tr>\n",
              "    <tr>\n",
              "      <th>3</th>\n",
              "      <td>14.37</td>\n",
              "      <td>1480</td>\n",
              "    </tr>\n",
              "    <tr>\n",
              "      <th>4</th>\n",
              "      <td>13.24</td>\n",
              "      <td>735</td>\n",
              "    </tr>\n",
              "    <tr>\n",
              "      <th>...</th>\n",
              "      <td>...</td>\n",
              "      <td>...</td>\n",
              "    </tr>\n",
              "    <tr>\n",
              "      <th>173</th>\n",
              "      <td>13.71</td>\n",
              "      <td>740</td>\n",
              "    </tr>\n",
              "    <tr>\n",
              "      <th>174</th>\n",
              "      <td>13.40</td>\n",
              "      <td>750</td>\n",
              "    </tr>\n",
              "    <tr>\n",
              "      <th>175</th>\n",
              "      <td>13.27</td>\n",
              "      <td>835</td>\n",
              "    </tr>\n",
              "    <tr>\n",
              "      <th>176</th>\n",
              "      <td>13.17</td>\n",
              "      <td>840</td>\n",
              "    </tr>\n",
              "    <tr>\n",
              "      <th>177</th>\n",
              "      <td>14.13</td>\n",
              "      <td>560</td>\n",
              "    </tr>\n",
              "  </tbody>\n",
              "</table>\n",
              "<p>178 rows × 2 columns</p>\n",
              "</div>"
            ],
            "text/plain": [
              "     Alcohol  Proline\n",
              "0      14.23     1065\n",
              "1      13.20     1050\n",
              "2      13.16     1185\n",
              "3      14.37     1480\n",
              "4      13.24      735\n",
              "..       ...      ...\n",
              "173    13.71      740\n",
              "174    13.40      750\n",
              "175    13.27      835\n",
              "176    13.17      840\n",
              "177    14.13      560\n",
              "\n",
              "[178 rows x 2 columns]"
            ]
          },
          "metadata": {},
          "execution_count": 111
        }
      ]
    },
    {
      "cell_type": "code",
      "metadata": {
        "colab": {
          "base_uri": "https://localhost:8080/",
          "height": 110
        },
        "id": "irLQmjQBP_3J",
        "outputId": "90175f60-af1f-432e-be4e-705c0919e7b8"
      },
      "source": [
        "#calculate the Pearson’s correlation for the same.\n",
        "\n",
        "X.corr()  #corr is in pandas lib  "
      ],
      "execution_count": 112,
      "outputs": [
        {
          "output_type": "execute_result",
          "data": {
            "text/html": [
              "<div>\n",
              "<style scoped>\n",
              "    .dataframe tbody tr th:only-of-type {\n",
              "        vertical-align: middle;\n",
              "    }\n",
              "\n",
              "    .dataframe tbody tr th {\n",
              "        vertical-align: top;\n",
              "    }\n",
              "\n",
              "    .dataframe thead th {\n",
              "        text-align: right;\n",
              "    }\n",
              "</style>\n",
              "<table border=\"1\" class=\"dataframe\">\n",
              "  <thead>\n",
              "    <tr style=\"text-align: right;\">\n",
              "      <th></th>\n",
              "      <th>Alcohol</th>\n",
              "      <th>Proline</th>\n",
              "    </tr>\n",
              "  </thead>\n",
              "  <tbody>\n",
              "    <tr>\n",
              "      <th>Alcohol</th>\n",
              "      <td>1.00000</td>\n",
              "      <td>0.64372</td>\n",
              "    </tr>\n",
              "    <tr>\n",
              "      <th>Proline</th>\n",
              "      <td>0.64372</td>\n",
              "      <td>1.00000</td>\n",
              "    </tr>\n",
              "  </tbody>\n",
              "</table>\n",
              "</div>"
            ],
            "text/plain": [
              "         Alcohol  Proline\n",
              "Alcohol  1.00000  0.64372\n",
              "Proline  0.64372  1.00000"
            ]
          },
          "metadata": {},
          "execution_count": 112
        }
      ]
    },
    {
      "cell_type": "code",
      "metadata": {
        "colab": {
          "base_uri": "https://localhost:8080/",
          "height": 417
        },
        "id": "rV-u0MJoQzw-",
        "outputId": "ba15e596-9904-4dca-99fa-288ed659b81f"
      },
      "source": [
        "#2. Take any 5 features from the ‘wine.csv’ dataset and load them in a matrix. Thereafter, create the covariance matrix of the same\n",
        "\n",
        "Y=score.loc[0:178,['Alcohol', 'Proline','Mg','Phenols', 'Hue']]\n",
        "Y"
      ],
      "execution_count": 113,
      "outputs": [
        {
          "output_type": "execute_result",
          "data": {
            "text/html": [
              "<div>\n",
              "<style scoped>\n",
              "    .dataframe tbody tr th:only-of-type {\n",
              "        vertical-align: middle;\n",
              "    }\n",
              "\n",
              "    .dataframe tbody tr th {\n",
              "        vertical-align: top;\n",
              "    }\n",
              "\n",
              "    .dataframe thead th {\n",
              "        text-align: right;\n",
              "    }\n",
              "</style>\n",
              "<table border=\"1\" class=\"dataframe\">\n",
              "  <thead>\n",
              "    <tr style=\"text-align: right;\">\n",
              "      <th></th>\n",
              "      <th>Alcohol</th>\n",
              "      <th>Proline</th>\n",
              "      <th>Mg</th>\n",
              "      <th>Phenols</th>\n",
              "      <th>Hue</th>\n",
              "    </tr>\n",
              "  </thead>\n",
              "  <tbody>\n",
              "    <tr>\n",
              "      <th>0</th>\n",
              "      <td>14.23</td>\n",
              "      <td>1065</td>\n",
              "      <td>127</td>\n",
              "      <td>2.80</td>\n",
              "      <td>1.04</td>\n",
              "    </tr>\n",
              "    <tr>\n",
              "      <th>1</th>\n",
              "      <td>13.20</td>\n",
              "      <td>1050</td>\n",
              "      <td>100</td>\n",
              "      <td>2.65</td>\n",
              "      <td>1.05</td>\n",
              "    </tr>\n",
              "    <tr>\n",
              "      <th>2</th>\n",
              "      <td>13.16</td>\n",
              "      <td>1185</td>\n",
              "      <td>101</td>\n",
              "      <td>2.80</td>\n",
              "      <td>1.03</td>\n",
              "    </tr>\n",
              "    <tr>\n",
              "      <th>3</th>\n",
              "      <td>14.37</td>\n",
              "      <td>1480</td>\n",
              "      <td>113</td>\n",
              "      <td>3.85</td>\n",
              "      <td>0.86</td>\n",
              "    </tr>\n",
              "    <tr>\n",
              "      <th>4</th>\n",
              "      <td>13.24</td>\n",
              "      <td>735</td>\n",
              "      <td>118</td>\n",
              "      <td>2.80</td>\n",
              "      <td>1.04</td>\n",
              "    </tr>\n",
              "    <tr>\n",
              "      <th>...</th>\n",
              "      <td>...</td>\n",
              "      <td>...</td>\n",
              "      <td>...</td>\n",
              "      <td>...</td>\n",
              "      <td>...</td>\n",
              "    </tr>\n",
              "    <tr>\n",
              "      <th>173</th>\n",
              "      <td>13.71</td>\n",
              "      <td>740</td>\n",
              "      <td>95</td>\n",
              "      <td>1.68</td>\n",
              "      <td>0.64</td>\n",
              "    </tr>\n",
              "    <tr>\n",
              "      <th>174</th>\n",
              "      <td>13.40</td>\n",
              "      <td>750</td>\n",
              "      <td>102</td>\n",
              "      <td>1.80</td>\n",
              "      <td>0.70</td>\n",
              "    </tr>\n",
              "    <tr>\n",
              "      <th>175</th>\n",
              "      <td>13.27</td>\n",
              "      <td>835</td>\n",
              "      <td>120</td>\n",
              "      <td>1.59</td>\n",
              "      <td>0.59</td>\n",
              "    </tr>\n",
              "    <tr>\n",
              "      <th>176</th>\n",
              "      <td>13.17</td>\n",
              "      <td>840</td>\n",
              "      <td>120</td>\n",
              "      <td>1.65</td>\n",
              "      <td>0.60</td>\n",
              "    </tr>\n",
              "    <tr>\n",
              "      <th>177</th>\n",
              "      <td>14.13</td>\n",
              "      <td>560</td>\n",
              "      <td>96</td>\n",
              "      <td>2.05</td>\n",
              "      <td>0.61</td>\n",
              "    </tr>\n",
              "  </tbody>\n",
              "</table>\n",
              "<p>178 rows × 5 columns</p>\n",
              "</div>"
            ],
            "text/plain": [
              "     Alcohol  Proline   Mg  Phenols   Hue\n",
              "0      14.23     1065  127     2.80  1.04\n",
              "1      13.20     1050  100     2.65  1.05\n",
              "2      13.16     1185  101     2.80  1.03\n",
              "3      14.37     1480  113     3.85  0.86\n",
              "4      13.24      735  118     2.80  1.04\n",
              "..       ...      ...  ...      ...   ...\n",
              "173    13.71      740   95     1.68  0.64\n",
              "174    13.40      750  102     1.80  0.70\n",
              "175    13.27      835  120     1.59  0.59\n",
              "176    13.17      840  120     1.65  0.60\n",
              "177    14.13      560   96     2.05  0.61\n",
              "\n",
              "[178 rows x 5 columns]"
            ]
          },
          "metadata": {},
          "execution_count": 113
        }
      ]
    },
    {
      "cell_type": "code",
      "metadata": {
        "colab": {
          "base_uri": "https://localhost:8080/"
        },
        "id": "B6SF1_CZTMP-",
        "outputId": "4812d734-a23c-4968-d19d-732a26ef19fe"
      },
      "source": [
        "a=np.cov(Y)\n",
        "a"
      ],
      "execution_count": 114,
      "outputs": [
        {
          "output_type": "execute_result",
          "data": {
            "text/plain": [
              "array([[214427.88338 , 212185.05285 , 239926.589035, ..., 167461.60285 ,\n",
              "        168491.839305, 111493.71131 ],\n",
              "       [212185.05285 , 210087.81075 , 237610.101825, ..., 165611.594   ,\n",
              "        166633.831725, 110194.2147  ],\n",
              "       [239926.589035, 237610.101825, 268762.87462 , ..., 187219.34095 ,\n",
              "        188376.51351 , 124540.14767 ],\n",
              "       ...,\n",
              "       [167461.60285 , 165611.594   , 187219.34095 , ..., 130862.33215 ,\n",
              "        131664.6189  ,  87182.32835 ],\n",
              "       [168491.839305, 166633.831725, 188376.51351 , ..., 131664.6189  ,\n",
              "        132471.92403 ,  87714.81906 ],\n",
              "       [111493.71131 , 110194.2147  , 124540.14767 , ...,  87182.32835 ,\n",
              "         87714.81906 ,  58122.73867 ]])"
            ]
          },
          "metadata": {},
          "execution_count": 114
        }
      ]
    }
  ]
}