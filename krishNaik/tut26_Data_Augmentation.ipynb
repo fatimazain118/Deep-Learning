{
  "nbformat": 4,
  "nbformat_minor": 0,
  "metadata": {
    "colab": {
      "name": "tut26_Data_Augmentation.ipynb",
      "provenance": [],
      "mount_file_id": "1ihsYkyhE9y5zmmzGpRBL-h8uDMOJgroz",
      "authorship_tag": "ABX9TyPlhj8feZPCiQmaSdZV376I",
      "include_colab_link": true
    },
    "kernelspec": {
      "name": "python3",
      "display_name": "Python 3"
    },
    "language_info": {
      "name": "python"
    }
  },
  "cells": [
    {
      "cell_type": "markdown",
      "metadata": {
        "id": "view-in-github",
        "colab_type": "text"
      },
      "source": [
        "<a href=\"https://colab.research.google.com/github/fatimazain118/Deep-Learning-Assignments/blob/main/krishNaik/tut26_Data_Augmentation.ipynb\" target=\"_parent\"><img src=\"https://colab.research.google.com/assets/colab-badge.svg\" alt=\"Open In Colab\"/></a>"
      ]
    },
    {
      "cell_type": "markdown",
      "source": [
        "**keras.preprocessing.image.ImageDataGenerator** class configure random transformations and normalization operations to be done on your image data during training\n",
        "\n",
        "**rescale** is a value by which we will multiply the data before any other processing. Our original images consist in RGB coefficients in the 0-255, but such values would be too high for our models to process (given a typical learning rate), so we target values between 0 and 1 instead by scaling with a 1/255. factor.\n",
        "\n",
        "**fill_mode** is the strategy used for\n",
        "filling in newly created pixels, which can appear after a rotation or a width/height shift.\n",
        "\n",
        "\n",
        "\n",
        "\n"
      ],
      "metadata": {
        "id": "nuE19FKTKj97"
      }
    },
    {
      "cell_type": "code",
      "execution_count": 1,
      "metadata": {
        "id": "HEToP2FoIEMq"
      },
      "outputs": [],
      "source": [
        "from keras.preprocessing.image import ImageDataGenerator, array_to_img, img_to_array, load_img  #this imagegenerator helps to do flipping and other edits with the images\n",
        "\n",
        "datagen = ImageDataGenerator(\n",
        "        rotation_range=40,    #randomly rotate pictures\n",
        "        width_shift_range=0.2,  #randomly translate pictures vertically or horizontally\n",
        "        height_shift_range=0.2,\n",
        "        rescale=1./255,  \n",
        "        shear_range=0.2,  #randomly applying shearing transformations\n",
        "        zoom_range=0.2,\n",
        "        horizontal_flip=True,\n",
        "        fill_mode='nearest')"
      ]
    },
    {
      "cell_type": "code",
      "source": [
        "img = load_img('/content/drive/MyDrive/Cat.jpg')  # this is a PIL image\n",
        "x = img_to_array(img)  # this is a Numpy array with shape (3, 150, 150)\n",
        "x = x.reshape((1,) + x.shape)  # this is a Numpy array with shape (1, 3, 150, 150) 150*150 pixels , 3 is 3rd channel of RGB and 1 is for 4 dimension\n",
        "\n",
        "# the .flow() command below generates batches of randomly transformed images\n",
        "# and saves the results to the `tut26` directory\n",
        "i = 0\n",
        "for batch in datagen.flow(x, batch_size=1,\n",
        "                          save_to_dir='/content/drive/MyDrive/Datasets/preview', save_prefix='cat', save_format='jpeg'):\n",
        "    i += 1\n",
        "    if i > 20:  #saving just 20 generated img\n",
        "        break  # otherwise the generator would loop indefinitely"
      ],
      "metadata": {
        "id": "i5ZY_WySMGj0"
      },
      "execution_count": 3,
      "outputs": []
    }
  ]
}