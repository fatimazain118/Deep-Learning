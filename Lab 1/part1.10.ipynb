{
  "nbformat": 4,
  "nbformat_minor": 0,
  "metadata": {
    "colab": {
      "name": "Untitled1.ipynb",
      "provenance": []
    },
    "kernelspec": {
      "name": "python3",
      "display_name": "Python 3"
    },
    "language_info": {
      "name": "python"
    }
  },
  "cells": [
    {
      "cell_type": "code",
      "metadata": {
        "colab": {
          "base_uri": "https://localhost:8080/"
        },
        "id": "mHYzEBcQ-7RT",
        "outputId": "320c0053-0b03-4d93-d2b8-562859ee233b"
      },
      "source": [
        "from google.colab import drive\n",
        "drive.mount('/content/gdrive')"
      ],
      "execution_count": 4,
      "outputs": [
        {
          "output_type": "stream",
          "name": "stdout",
          "text": [
            "Drive already mounted at /content/gdrive; to attempt to forcibly remount, call drive.mount(\"/content/gdrive\", force_remount=True).\n"
          ]
        }
      ]
    },
    {
      "cell_type": "code",
      "metadata": {
        "id": "CHSjheJ3_pMM"
      },
      "source": [
        "import csv"
      ],
      "execution_count": 6,
      "outputs": []
    },
    {
      "cell_type": "code",
      "metadata": {
        "id": "PGxE4JLU_zIG"
      },
      "source": [
        "import random"
      ],
      "execution_count": 8,
      "outputs": []
    },
    {
      "cell_type": "code",
      "metadata": {
        "colab": {
          "base_uri": "https://localhost:8080/"
        },
        "id": "EJRE5rUI8lGz",
        "outputId": "9e0f0dae-a9e8-429a-c7bb-7112ba4bf1b6"
      },
      "source": [
        "#10. Write a Python program to replace a user-defined number present in the CSV file by the character ‘A’.\n",
        "num = input(\"Enter the number to replace\")\n",
        "marked_pos = []\n",
        "with open('/content/gdrive/MyDrive/user_file.csv', mode ='r')as file: \n",
        "      \n",
        "  # reading the CSV file \n",
        "  csvFile = csv.reader(file) \n",
        "\n",
        "  print(\"Before replacing\")\n",
        "  for lines in csvFile:\n",
        "    print(lines)\n",
        "\n",
        "with open('/content/gdrive/MyDrive/user_file.csv', mode ='r')as file: \n",
        "      \n",
        "  # reading the CSV file \n",
        "  csvFile = csv.reader(file) \n",
        "  ls = list(csvFile)\n",
        "  new_csv = [random.choices([0], k=len(ls[0])) for i in range(len(ls))]\n",
        "\n",
        "  for each_line in range(len(ls)): \n",
        "    for val in range(len(ls[0])):\n",
        "        if ls[each_line][val] == num:\n",
        "          new_csv[each_line][val] = 'A'\n",
        "        else:\n",
        "          new_csv[each_line][val] = ls[each_line][val]\n",
        "      \n",
        "\n",
        "# writing to csv file \n",
        "with open('/content/gdrive/MyDrive/user_file.csv', 'w', newline='') as csvfile: \n",
        "    # creating a csv writer object \n",
        "    csvwriter = csv.writer(csvfile) \n",
        "    csvwriter.writerows(new_csv)\n",
        "\n",
        "\n",
        "with open('/content/gdrive/MyDrive/user_file.csv', mode ='r')as file: \n",
        "      \n",
        "  # reading the CSV file \n",
        "  csvFile = csv.reader(file) \n",
        "\n",
        "  print(\"After replacing\")\n",
        "  for lines in csvFile:\n",
        "    print(lines)"
      ],
      "execution_count": 9,
      "outputs": [
        {
          "output_type": "stream",
          "name": "stdout",
          "text": [
            "Enter the number to replace10\n",
            "Before replacing\n",
            "['10', '13', '54', '78', '37']\n",
            "['23', '27', '10', '33', '2']\n",
            "['3', '33', '22', '4', '2']\n",
            "['10', '23', '10', '33', '1']\n",
            "After replacing\n",
            "['A', '13', '54', '78', '37']\n",
            "['23', '27', 'A', '33', '2']\n",
            "['3', '33', '22', '4', '2']\n",
            "['A', '23', 'A', '33', '1']\n"
          ]
        }
      ]
    }
  ]
}